{
 "cells": [
  {
   "cell_type": "markdown",
   "metadata": {},
   "source": [
    "**You may need to install [OpenCV](https://pypi.python.org/pypi/opencv-python) and [scikit-video](http://www.scikit-video.org/stable/).**"
   ]
  },
  {
   "cell_type": "code",
   "execution_count": 1,
   "metadata": {
    "collapsed": true
   },
   "outputs": [
    {
     "name": "stderr",
     "output_type": "stream",
     "text": [
      "Using TensorFlow backend.\n"
     ]
    }
   ],
   "source": [
    "import os\n",
    "os.environ[\"CUDA_DEVICE_ORDER\"]=\"PCI_BUS_ID\"   # see issue #152\n",
    "os.environ[\"CUDA_VISIBLE_DEVICES\"]=\"-1\"\n",
    "import keras\n",
    "import numpy as np\n",
    "import io\n",
    "import base64\n",
    "from IPython.display import HTML\n",
    "import skvideo.io\n",
    "import cv2\n",
    "import json\n",
    "from collections import deque\n",
    "\n",
    "from keras.models import Sequential,model_from_json\n",
    "from keras.layers.core import Dense\n",
    "from keras.optimizers import sgd\n",
    "from keras.layers import Conv2D, MaxPooling2D, Activation, AveragePooling2D\n",
    "from keras.layers import Reshape,BatchNormalization,Flatten"
   ]
  },
  {
   "cell_type": "markdown",
   "metadata": {},
   "source": [
    "# MiniProject #3: Deep Reinforcement Learning"
   ]
  },
  {
   "cell_type": "markdown",
   "metadata": {},
   "source": [
    "__Notations__: $E_p$ is the expectation under probability $p$. Please justify each of your answer and widely comment your code."
   ]
  },
  {
   "cell_type": "markdown",
   "metadata": {},
   "source": [
    "# Context"
   ]
  },
  {
   "cell_type": "markdown",
   "metadata": {},
   "source": [
    "In a reinforcement learning algorithm, we modelize each step $t$ as an action $a_t$ obtained from a state $s_t$, i.e. $\\{(a_{t},s_{t})_{t\\leq T}\\}$ having the Markov property. We consider a discount factor $\\gamma \\in [0,1]$ that ensures convergence. The goal is to find among all the policies $\\pi$, one that maximizes the expected reward:\n",
    "\n",
    "\\begin{equation*}\n",
    "R(\\pi)=\\sum_{t\\leq T}E_{p^{\\pi}}[\\gamma^t r(s_{t},a_{t})] \\> ,\n",
    "\\end{equation*}\n",
    "\n",
    "where: \n",
    "\\begin{equation*}p^{\\pi}(a_{0},a_{1},s_{1},...,a_{T},s_{T})=p(a_{0})\\prod_{t=1}^{T}\\pi(a_{t}|s_{t})p(s_{t+1}|s_{t},a_{t}) \\> .\n",
    "\\end{equation*}\n",
    "\n",
    "We note the $Q$-function:\n",
    "\n",
    "\\begin{equation*}Q^\\pi(s,a)=E_{p^{\\pi}}[\\sum_{t\\leq T}\\gamma^{t}r(s_{t},a_{t})|s_{0}=s,a_{0}=a] \\> .\n",
    "\\end{equation*}\n",
    "\n",
    "Thus, the optimal Q function is:\n",
    "\\begin{equation*}\n",
    "Q^*(s,a)=\\max_{\\pi}Q^\\pi(s,a) \\> .\n",
    "\\end{equation*}\n",
    "\n",
    "In this project, we will apply the deep reinforcement learning techniques to a simple game: an agent will have to learn from scratch a policy that will permit it maximizing a reward."
   ]
  },
  {
   "cell_type": "markdown",
   "metadata": {},
   "source": [
    "## The environment, the agent and the game"
   ]
  },
  {
   "cell_type": "markdown",
   "metadata": {},
   "source": [
    "### The environment"
   ]
  },
  {
   "cell_type": "markdown",
   "metadata": {},
   "source": [
    "```Environment``` is an abstract class that represents the states, rewards, and actions to obtain the new state."
   ]
  },
  {
   "cell_type": "code",
   "execution_count": 2,
   "metadata": {
    "collapsed": true
   },
   "outputs": [],
   "source": [
    "class Environment(object):\n",
    "    def __init__(self):\n",
    "        pass\n",
    "\n",
    "    def act(self, act):\n",
    "        \"\"\"\n",
    "        One can act on the environment and obtain its reaction:\n",
    "        - the new state\n",
    "        - the reward of the new state\n",
    "        - should we continue the game?\n",
    "\n",
    "        :return: state, reward, game_over\n",
    "        \"\"\"\n",
    "        pass\n",
    "\n",
    "\n",
    "    def reset(self):\n",
    "        \"\"\"\n",
    "        Reinitialize the environment to a random state and returns\n",
    "        the original state\n",
    "\n",
    "        :return: state\n",
    "        \"\"\"\n",
    "        pass\n",
    "    \n",
    "    def draw(self):\n",
    "        \"\"\"\n",
    "        Visualize in the console or graphically the current state\n",
    "        \"\"\"\n",
    "        pass"
   ]
  },
  {
   "cell_type": "markdown",
   "metadata": {},
   "source": [
    "The method ```act``` allows to act on the environment at a given state $s_t$ (stored internally), via action $a_t$. The method will return the new state $s_{t+1}$, the reward $r(s_{t},a_{t})$ and determines if $t\\leq T$ (*game_over*).\n",
    "\n",
    "The method ```reset``` simply reinitializes the environment to a random state $s_0$.\n",
    "\n",
    "The method ```draw``` displays the current state $s_t$ (this is useful to check the behavior of the Agent).\n",
    "\n",
    "We modelize $s_t$ as a tensor, while $a_t$ is an integer."
   ]
  },
  {
   "cell_type": "markdown",
   "metadata": {},
   "source": [
    "### The Agent"
   ]
  },
  {
   "cell_type": "markdown",
   "metadata": {},
   "source": [
    "The goal of the ```Agent``` is to interact with the ```Environment``` by proposing actions $a_t$ obtained from a given state $s_t$ to attempt to maximize its __reward__ $r(s_t,a_t)$. We propose the following abstract class:"
   ]
  },
  {
   "cell_type": "code",
   "execution_count": 3,
   "metadata": {
    "collapsed": true
   },
   "outputs": [],
   "source": [
    "class Agent(object):\n",
    "    def __init__(self, epsilon=0.1, n_action=4):\n",
    "        self.epsilon = epsilon\n",
    "        self.n_action = n_action\n",
    "    \n",
    "    def set_epsilon(self,e):\n",
    "        self.epsilon = e\n",
    "\n",
    "    def act(self,s,train=True):\n",
    "        \"\"\" This function should return the next action to do:\n",
    "        an integer between 0 and 4 (not included) with a random exploration of epsilon\"\"\"\n",
    "        if train:\n",
    "            if np.random.rand() <= self.epsilon:\n",
    "                a = np.random.randint(0, self.n_action, size=1)[0]\n",
    "            else:\n",
    "                a = self.learned_act(s)\n",
    "        else: # in some cases, this can improve the performance.. remove it if poor performances\n",
    "            a = self.learned_act(s)\n",
    "\n",
    "        return a\n",
    "\n",
    "    def learned_act(self,s):\n",
    "        \"\"\" Act via the policy of the agent, from a given state s\n",
    "        it proposes an action a\"\"\"\n",
    "        pass\n",
    "\n",
    "    def reinforce(self, s, n_s, a, r, game_over_):\n",
    "        \"\"\" This function is the core of the learning algorithm. \n",
    "        It takes as an input the current state s_, the next state n_s_\n",
    "        the action a_ used to move from s_ to n_s_ and the reward r_.\n",
    "        \n",
    "        Its goal is to learn a policy.\n",
    "        \"\"\"\n",
    "        pass\n",
    "\n",
    "    def save(self):\n",
    "        \"\"\" This function returns basic stats if applicable: the\n",
    "        loss and/or the model\"\"\"\n",
    "        pass\n",
    "\n",
    "    def load(self):\n",
    "        \"\"\" This function allows to restore a model\"\"\"\n",
    "        pass"
   ]
  },
  {
   "cell_type": "markdown",
   "metadata": {},
   "source": [
    "***\n",
    "__Question 1__:\n",
    "Explain the function act. Why is ```epsilon``` essential?"
   ]
  },
  {
   "cell_type": "markdown",
   "metadata": {},
   "source": [
    "The function act represents the agents choice of action. the agent will take a random action with probability $\\epsilon$, and he will take the learned action probably from a trained model with probability $1 - \\epsilon$. \n",
    "epsilon is essential because while training the agent, at first the model isn't that good so the actions taken by it may be repetitive and the agent will be stuck and won't be able to learn, with the randomness that epsilon add the agent can explore more part of the environment and therefore learn more."
   ]
  },
  {
   "cell_type": "markdown",
   "metadata": {},
   "source": [
    "***\n",
    "### The Game"
   ]
  },
  {
   "cell_type": "markdown",
   "metadata": {},
   "source": [
    "The ```Agent``` and the ```Environment``` work in an interlaced way as in the following (take some time to understand this code as it is the core of the project)\n",
    "\n",
    "```python\n",
    "\n",
    "epoch = 300\n",
    "env = Environment()\n",
    "agent = Agent()\n",
    "\n",
    "\n",
    "# Number of won games\n",
    "score = 0\n",
    "loss = 0\n",
    "\n",
    "\n",
    "for e in range(epoch):\n",
    "    # At each epoch, we restart to a fresh game and get the initial state\n",
    "    state = env.reset()\n",
    "    # This assumes that the games will end\n",
    "    game_over = False\n",
    "\n",
    "    win = 0\n",
    "    lose = 0\n",
    "    \n",
    "    while not game_over:\n",
    "        # The agent performs an action\n",
    "        action = agent.act(state)\n",
    "\n",
    "        # Apply an action to the environment, get the next state, the reward\n",
    "        # and if the games end\n",
    "        prev_state = state\n",
    "        state, reward, game_over = env.act(action)\n",
    "\n",
    "        # Update the counters\n",
    "        if reward > 0:\n",
    "            win = win + reward\n",
    "        if reward < 0:\n",
    "            lose = lose -reward\n",
    "\n",
    "        # Apply the reinforcement strategy\n",
    "        loss = agent.reinforce(prev_state, state,  action, reward, game_over)\n",
    "\n",
    "    # Save as a mp4\n",
    "    if e % 10 == 0:\n",
    "        env.draw(e)\n",
    "\n",
    "    # Update stats\n",
    "    score += win-lose\n",
    "\n",
    "    print(\"Epoch {:03d}/{:03d} | Loss {:.4f} | Win/lose count {}/{} ({})\"\n",
    "          .format(e, epoch, loss, win, lose, win-lose))\n",
    "    agent.save()\n",
    "```"
   ]
  },
  {
   "cell_type": "markdown",
   "metadata": {},
   "source": [
    "# The game, *eat cheese*"
   ]
  },
  {
   "cell_type": "markdown",
   "metadata": {},
   "source": [
    "A rat runs on an island and tries to eat as much as possible. The island is subdivided into $N\\times N$ cells, in which there are cheese (+0.5) and poisonous cells (-1). The rat has a visibility of 2 cells (thus it can see $5^2$ cells). The rat is given a time $T$ to accumulate as much food as possible. It can perform 4 actions: going up, down, left, right. \n",
    "\n",
    "The goal is to code an agent to solve this task that will learn by trial and error. We propose the following environment:"
   ]
  },
  {
   "cell_type": "code",
   "execution_count": 4,
   "metadata": {
    "collapsed": true
   },
   "outputs": [],
   "source": [
    "class Environment(object):\n",
    "    def __init__(self, grid_size=10, max_time=500, temperature=0.1):\n",
    "        grid_size = grid_size+4\n",
    "        self.grid_size = grid_size\n",
    "        self.max_time = max_time\n",
    "        self.temperature = temperature\n",
    "\n",
    "        #board on which one plays\n",
    "        self.board = np.zeros((grid_size,grid_size))\n",
    "        self.position = np.zeros((grid_size,grid_size))\n",
    "\n",
    "        # coordinate of the cat\n",
    "        self.x = 0\n",
    "        self.y = 1\n",
    "\n",
    "        # self time\n",
    "        self.t = 0\n",
    "\n",
    "        self.scale=16\n",
    "\n",
    "        self.to_draw = np.zeros((max_time+2, grid_size*self.scale, grid_size*self.scale, 3))\n",
    "\n",
    "\n",
    "    def draw(self,e):\n",
    "        skvideo.io.vwrite(str(e) + '.mp4', self.to_draw)\n",
    "\n",
    "    def get_frame(self,t):\n",
    "        b = np.zeros((self.grid_size,self.grid_size,3))+128\n",
    "        b[self.board>0,0] = 256\n",
    "        b[self.board < 0, 2] = 256\n",
    "        b[self.x,self.y,:]=256\n",
    "        b[-2:,:,:]=0\n",
    "        b[:,-2:,:]=0\n",
    "        b[:2,:,:]=0\n",
    "        b[:,:2,:]=0\n",
    "        \n",
    "        b =  cv2.resize(b, None, fx=self.scale, fy=self.scale, interpolation=cv2.INTER_NEAREST)\n",
    "\n",
    "        self.to_draw[t,:,:,:]=b\n",
    "\n",
    "\n",
    "    def act(self, action):\n",
    "        \"\"\"This function returns the new state, reward and decides if the\n",
    "        game ends.\"\"\"\n",
    "\n",
    "        self.get_frame(int(self.t))\n",
    "\n",
    "        self.position = np.zeros((self.grid_size, self.grid_size))\n",
    "\n",
    "        self.position[0:2,:]= -1\n",
    "        self.position[:,0:2] = -1\n",
    "        self.position[-2:, :] = -1\n",
    "        self.position[-2:, :] = -1\n",
    "\n",
    "        self.position[self.x, self.y] = 1\n",
    "        if action == 0:\n",
    "            if self.x == self.grid_size-3:\n",
    "                self.x = self.x-1\n",
    "            else:\n",
    "                self.x = self.x + 1\n",
    "        elif action == 1:\n",
    "            if self.x == 2:\n",
    "                self.x = self.x+1\n",
    "            else:\n",
    "                self.x = self.x-1\n",
    "        elif action == 2:\n",
    "            if self.y == self.grid_size - 3:\n",
    "                self.y = self.y - 1\n",
    "            else:\n",
    "                self.y = self.y + 1\n",
    "        elif action == 3:\n",
    "            if self.y == 2:\n",
    "                self.y = self.y + 1\n",
    "            else:\n",
    "                self.y = self.y - 1\n",
    "        else:\n",
    "            RuntimeError('Error: action not recognized')\n",
    "\n",
    "        self.t = self.t + 1\n",
    "        reward = self.board[self.x, self.y]\n",
    "        self.board[self.x, self.y] = 0\n",
    "        game_over = self.t > self.max_time\n",
    "        state = np.concatenate((self.board.reshape(self.grid_size, self.grid_size,1),\n",
    "                        self.position.reshape(self.grid_size, self.grid_size,1)),axis=2)\n",
    "        state = state[self.x-2:self.x+3,self.y-2:self.y+3,:]\n",
    "\n",
    "        return state, reward, game_over\n",
    "\n",
    "    def reset(self):\n",
    "        \"\"\"This function resets the game and returns the initial state\"\"\"\n",
    "\n",
    "        self.x = np.random.randint(3, self.grid_size-3, size=1)[0]\n",
    "        self.y = np.random.randint(3, self.grid_size-3, size=1)[0]\n",
    "\n",
    "\n",
    "        bonus = 0.5*np.random.binomial(1,self.temperature,size=self.grid_size**2)\n",
    "        bonus = bonus.reshape(self.grid_size,self.grid_size)\n",
    "\n",
    "        malus = -1.0*np.random.binomial(1,self.temperature,size=self.grid_size**2)\n",
    "        malus = malus.reshape(self.grid_size, self.grid_size)\n",
    "\n",
    "        self.to_draw = np.zeros((self.max_time+2, self.grid_size*self.scale, self.grid_size*self.scale, 3))\n",
    "\n",
    "\n",
    "        malus[bonus>0]=0\n",
    "\n",
    "        self.board = bonus + malus\n",
    "\n",
    "        self.position = np.zeros((self.grid_size, self.grid_size))\n",
    "        self.position[0:2,:]= -1\n",
    "        self.position[:,0:2] = -1\n",
    "        self.position[-2:, :] = -1\n",
    "        self.position[-2:, :] = -1\n",
    "        self.board[self.x,self.y] = 0\n",
    "        self.t = 0\n",
    "\n",
    "        state = np.concatenate((\n",
    "                               self.board.reshape(self.grid_size, self.grid_size,1),\n",
    "                        self.position.reshape(self.grid_size, self.grid_size,1)),axis=2)\n",
    "\n",
    "        state = state[self.x - 2:self.x + 3, self.y - 2:self.y + 3, :]\n",
    "        return state"
   ]
  },
  {
   "cell_type": "markdown",
   "metadata": {},
   "source": [
    "The following elements are important because they correspond to the hyper parameters for this project:"
   ]
  },
  {
   "cell_type": "code",
   "execution_count": 5,
   "metadata": {},
   "outputs": [],
   "source": [
    "# parameters\n",
    "size = 13\n",
    "T=200\n",
    "temperature=0.3\n",
    "epochs_train=50 # set small when debugging\n",
    "epochs_test=10 # set small when debugging\n",
    "\n",
    "# display videos\n",
    "def display_videos(name):\n",
    "    video = io.open(name, 'r+b').read()\n",
    "    encoded = base64.b64encode(video)\n",
    "    return '''<video alt=\"test\" controls>\n",
    "                <source src=\"data:video/mp4;base64,{0}\" type=\"video/mp4\" />\n",
    "             </video>'''.format(encoded.decode('ascii'))"
   ]
  },
  {
   "cell_type": "markdown",
   "metadata": {},
   "source": [
    "__Question 2__ Explain the use of the arrays ```position``` and ```board```."
   ]
  },
  {
   "cell_type": "markdown",
   "metadata": {},
   "source": [
    "The array **board** represents the distribution of the rewards (cheese) on the grid $NxN$. If the agent gets to the position where there's a reward, he gets the reward and it's deleted from the array **board**.\n",
    "\n",
    "The array **position** represents the borders of the $NxN$ grid and the position of the agent, as in the beginning we added $+4$ to the grid size. these cells are given values -1 and are forbidden states, meaning the agents can get to them, while the position of the agents is given value 1 and the rest in zeros."
   ]
  },
  {
   "cell_type": "markdown",
   "metadata": {},
   "source": [
    "## Random Agent"
   ]
  },
  {
   "cell_type": "markdown",
   "metadata": {},
   "source": [
    "***\n",
    "__Question 3__ Implement a random Agent (only ```learned_act``` needs to be implemented):"
   ]
  },
  {
   "cell_type": "code",
   "execution_count": 6,
   "metadata": {
    "collapsed": true
   },
   "outputs": [],
   "source": [
    "class RandomAgent(Agent):\n",
    "    def __init__(self):\n",
    "        super(RandomAgent, self).__init__()\n",
    "        pass\n",
    "\n",
    "    def learned_act(self, s):\n",
    "        return np.random.randint(self.n_action)"
   ]
  },
  {
   "cell_type": "markdown",
   "metadata": {},
   "source": [
    "***\n",
    "***\n",
    "__Question 4__ Visualize the game moves. You need to fill in the following function for the evaluation:"
   ]
  },
  {
   "cell_type": "code",
   "execution_count": 7,
   "metadata": {
    "collapsed": true
   },
   "outputs": [],
   "source": [
    "def test(agent,env,epochs,prefix=''):\n",
    "    # Number of won games\n",
    "    score = 0\n",
    "        \n",
    "    for e in range(epochs):\n",
    "        \n",
    "        ##### FILL IN HERE\n",
    "        # At each epoch, we restart to a fresh game and get the initial state\n",
    "        state = env.reset()\n",
    "        # This assumes that the games will end\n",
    "        game_over = False\n",
    "\n",
    "        win = 0\n",
    "        lose = 0\n",
    "\n",
    "        while not game_over:\n",
    "            # The agent performs an action\n",
    "            action = agent.act(state)\n",
    "\n",
    "            \n",
    "            state, reward, game_over = env.act(action)\n",
    "\n",
    "            # Update the counters\n",
    "            if reward > 0:\n",
    "                win = win + reward\n",
    "            if reward < 0:\n",
    "                lose = lose -reward\n",
    "        # Save as a mp4\n",
    "        env.draw(prefix+str(e))\n",
    "\n",
    "        # Update stats\n",
    "        score = score + win-lose\n",
    "\n",
    "        print(\"Win/lose count {}/{}. Average score ({})\"\n",
    "              .format(win, lose, score/(1+e)))\n",
    "    print('Final score: '+str(score/epochs))"
   ]
  },
  {
   "cell_type": "code",
   "execution_count": 8,
   "metadata": {},
   "outputs": [
    {
     "name": "stdout",
     "output_type": "stream",
     "text": [
      "Win/lose count 5.0/9.0. Average score (-4.0)\n",
      "Win/lose count 11.0/13.0. Average score (-3.0)\n",
      "Win/lose count 11.0/23.0. Average score (-6.0)\n",
      "Win/lose count 8.5/14.0. Average score (-5.875)\n",
      "Win/lose count 10.5/18.0. Average score (-6.2)\n",
      "Win/lose count 5.5/7.0. Average score (-5.416666666666667)\n",
      "Win/lose count 7.0/11.0. Average score (-5.214285714285714)\n",
      "Win/lose count 12.5/13.0. Average score (-4.625)\n",
      "Win/lose count 9.0/16.0. Average score (-4.888888888888889)\n",
      "Win/lose count 8.5/12.0. Average score (-4.75)\n",
      "Final score: -4.75\n"
     ]
    },
    {
     "data": {
      "text/html": [
       "<video alt=\"test\" controls>\n",
       "                <source src=\"data:video/mp4;base64,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\" type=\"video/mp4\" />\n",
       "             </video>"
      ],
      "text/plain": [
       "<IPython.core.display.HTML object>"
      ]
     },
     "execution_count": 8,
     "metadata": {},
     "output_type": "execute_result"
    }
   ],
   "source": [
    "# Initialize the game\n",
    "env = Environment(grid_size=size, max_time=T,temperature=temperature)\n",
    "\n",
    "# Initialize the agent!\n",
    "agent = RandomAgent()\n",
    "\n",
    "test(agent,env,epochs_test,prefix='random')\n",
    "HTML(display_videos('random0.mp4'))"
   ]
  },
  {
   "cell_type": "markdown",
   "metadata": {},
   "source": [
    "***\n",
    "## DQN"
   ]
  },
  {
   "cell_type": "markdown",
   "metadata": {},
   "source": [
    "Let us assume here that $T=\\infty$.\n",
    "\n",
    "***\n",
    "__Question 5__ Let $\\pi$ be a policy, show that:\n",
    "\n",
    "\\begin{equation*}\n",
    "Q^{\\pi}(s,a)=E_{(s',a')\\sim p(.|s,a)}[r(s,a)+\\gamma Q^{\\pi}(s',a')]\n",
    "\\end{equation*}\n",
    "\n",
    "Then, show that for the optimal policy $\\pi^*$ (we assume its existence), the following holds: \n",
    "\n",
    "\\begin{equation*}\n",
    "Q^{*}(s,a)=E_{s'\\sim \\pi^*(.|s,a)}[r(s,a)+\\gamma\\max_{a'}Q^{*}(s',a')].\n",
    "\\end{equation*}\n",
    "Finally, deduce that a plausible objective is:\n",
    "\n",
    "\\begin{equation*}\n",
    "\\mathcal{L}(\\theta)=E_{s' \\sim \\pi^*(.|s,a)}\\Vert r+\\gamma\\max\\max_{a'}Q(s',a',\\theta)-Q(s,a,\\theta)\\Vert^{2}.\n",
    "\\end{equation*}\n",
    "\n",
    "\n"
   ]
  },
  {
   "cell_type": "markdown",
   "metadata": {},
   "source": [
    "\n",
    "__1:__  \n",
    "\n",
    "\\begin{align*} \n",
    "Q^\\pi(s,a)&=E_{p^{\\pi}}[\\sum_{t=0}^{\\infty}\\gamma^{t}r(s_{t},a_{t})|s_{0}=s,a_{0}=a]\\\\\n",
    "          &=E_{p^{\\pi}}[r(s_0,a_0) + \\gamma\\sum_{t=1}^{\\infty}\\gamma^{t-1}r(s_{t},a_{t})|s_{0}=s,a_{0}=a]\\\\\n",
    "          &=r(s,a) + \\gamma E_{p^{\\pi}}[\\sum_{t=0}^{\\infty}\\gamma^{t}r(s_{t+1},a_{t+1})|s_{0}=s,a_{0}=a]\\\\\n",
    "          &=r(s,a) + E_{(s',a')\\sim p(.|s,a)}\\left(\\gamma E_{p^{\\pi}} (\\sum_{t=0}^{\\infty} \\gamma^t r(s_{t+1},a_{t+1})|s_1=s',a_1=a')\\right)\\\\\n",
    "          &=r(s,a) + E_{(s',a')\\sim p(.|s,a)}\\left(\\gamma E_{p^{\\pi}}[\\sum_{t=0}^{\\infty}\\gamma^{t}r(s_{t},a_{t})|s_{0}=s',a_{0}=a']\\right)\\\\\n",
    "          &=E_{(s',a')\\sim p(.|s,a)}\\left(r(s,a) + \\gamma E_{p^{\\pi}}[\\sum_{t=0}^{\\infty}\\gamma^{t}r(s_{t},a_{t})|s_{0}=s',a_{0}=a']\\right)\\\\\n",
    "          &=E_{(s',a')\\sim p(.|s,a)}\\left(r(s,a) + \\gamma Q^{\\pi}(s',a') \\right)\n",
    "\\end{align*}\n"
   ]
  },
  {
   "cell_type": "markdown",
   "metadata": {},
   "source": [
    "__2:__ \n",
    "\n",
    "We have that : $\\pi^*(s') = arg\\max_{a'} Q^{*}(s',a') $, meaning it's deterministic. \n",
    "\n",
    "\\begin{align*}\n",
    "Q^{*}(s,a)&= E_{(s',a')\\sim p(.|s,a)}\\left(r(s,a) + \\gamma Q^{*}(s',a') \\right)\\\\\n",
    "        &= E_{s'\\sim p(.|s,a), a'\\sim \\pi^*(.|s')}\\left(r(s,a) + \\gamma Q^{*}(s',a') \\right)\\\\\n",
    "        &= E_{s' \\sim \\pi^*(.|s,a)}\\left(r(s,a) + \\gamma \\max_{a'}Q^{*}(s',a') \\right) \\text{because $\\pi^*(s')$ is the maximum action}\\\\\n",
    "\\end{align*}\n",
    "\n",
    "\n"
   ]
  },
  {
   "cell_type": "markdown",
   "metadata": {},
   "source": [
    "__3:__\n",
    "\n",
    "We have that : \n",
    "$$Q^{*}(s,a)=E_{s' \\sim \\pi^*(.|s,a)}\\left(r(s,a) + \\gamma \\max_{a'}Q^{*}(s',a') \\right)$$\n",
    "Therefore, $Q^*$ is the solution to $$L(Q) = E_{s' \\sim \\pi^*(.|s,a)}\\left(r(s,a) + \\gamma \\max_{a'}Q(s',a') - Q(s,a)\\right) = 0 $$\n",
    "\n",
    "So Minimizing $\\mathcal{L}(\\theta)=E_{s' \\sim \\pi^*(.|s,a)}\\Vert r+\\gamma\\max_{a'}Q(s',a',\\theta)-Q(s,a,\\theta)\\Vert^{2}$ will converge to the optimal solution Q."
   ]
  },
  {
   "cell_type": "markdown",
   "metadata": {},
   "source": [
    "***\n",
    "The DQN-learning algorithm relies on these derivations to train the parameters $\\theta$ of a Deep Neural Network:\n",
    "\n",
    "1. At the state $s_t$, select the action $a_t$ with best reward using $Q_t$ and store the results;\n",
    "\n",
    "2. Obtain the new state $s_{t+1}$ from the environment $p$;\n",
    "\n",
    "3. Store $(s_t,a_t,s_{t+1})$;\n",
    "\n",
    "4. Obtain $Q_{t+1}$ by minimizing  $\\mathcal{L}$ from a recovered batch from the previously stored results.\n",
    "\n",
    "***\n",
    "__Question 6__ Implement the class ```Memory``` that stores moves (in a replay buffer) via ```remember``` and provides a ```random_access``` to these. Specify a maximum memory size to avoid side effects. You can for example use a ```list()``` and set by default ```max_memory=100```."
   ]
  },
  {
   "cell_type": "code",
   "execution_count": 9,
   "metadata": {
    "collapsed": true
   },
   "outputs": [],
   "source": [
    "class Memory(object):\n",
    "    def __init__(self, max_memory=100):\n",
    "        self.max_memory = max_memory\n",
    "        self.memory = deque(maxlen=self.max_memory)\n",
    "\n",
    "    def remember(self, m):\n",
    "        self.memory.append(m)\n",
    "\n",
    "    def random_access(self):\n",
    "        return self.memory[np.random.randint(len(self.memory))]"
   ]
  },
  {
   "cell_type": "markdown",
   "metadata": {},
   "source": [
    "***\n",
    "The pipeline we will use for training is given below:"
   ]
  },
  {
   "cell_type": "code",
   "execution_count": 10,
   "metadata": {
    "collapsed": true
   },
   "outputs": [],
   "source": [
    "def train(agent,env,epoch,prefix=''):\n",
    "    # Number of won games\n",
    "    score = 0\n",
    "    loss = 0\n",
    "\n",
    "    for e in range(epoch):\n",
    "        # At each epoch, we restart to a fresh game and get the initial state\n",
    "        state = env.reset()\n",
    "        # This assumes that the games will terminate\n",
    "        game_over = False\n",
    "\n",
    "        win = 0\n",
    "        lose = 0\n",
    "\n",
    "        while not game_over:\n",
    "            # The agent performs an action\n",
    "            action = agent.act(state)\n",
    "\n",
    "            # Apply an action to the environment, get the next state, the reward\n",
    "            # and if the games end\n",
    "            prev_state = state\n",
    "            state, reward, game_over = env.act(action)\n",
    "\n",
    "            # Update the counters\n",
    "            if reward > 0:\n",
    "                win = win + reward\n",
    "            if reward < 0:\n",
    "                lose = lose -reward\n",
    "\n",
    "            # Apply the reinforcement strategy\n",
    "            loss = agent.reinforce(prev_state, state,  action, reward, game_over)\n",
    "\n",
    "        #Save as a mp4\n",
    "        if e % 10 == 0:\n",
    "            env.draw(prefix+str(e))\n",
    "\n",
    "        # Update stats\n",
    "        score += win-lose\n",
    "\n",
    "        print(\"Epoch {:03d}/{:03d} | Loss {:.4f} | Win/lose count {}/{} ({})\"\n",
    "              .format(e, epoch, loss, win, lose, win-lose))\n",
    "        agent.save(name_weights=prefix+'model.h5',name_model=prefix+'model.json')"
   ]
  },
  {
   "cell_type": "markdown",
   "metadata": {},
   "source": [
    "***\n",
    "__Question 7__ Implement the DQN training algorithm using a cascade of fully connected layers. You can use different learning rate, batch size or memory size parameters. In particular, the loss might oscillate while the player will start to win the games. You have to find a good criterium."
   ]
  },
  {
   "cell_type": "code",
   "execution_count": 11,
   "metadata": {
    "collapsed": true
   },
   "outputs": [],
   "source": [
    "class DQN(Agent):\n",
    "    def __init__(self, grid_size,  epsilon = 0.1, memory_size=100, batch_size = 16,n_state=2):\n",
    "        super(DQN, self).__init__(epsilon = epsilon)\n",
    "\n",
    "        # Discount for Q learning\n",
    "        self.discount = 0.99\n",
    "        \n",
    "        self.grid_size = grid_size\n",
    "        \n",
    "        # number of state\n",
    "        self.n_state = n_state\n",
    "\n",
    "        # Memory\n",
    "        self.memory = Memory(memory_size)\n",
    "        \n",
    "        # Batch size when learning\n",
    "        self.batch_size = batch_size\n",
    "\n",
    "    def learned_act(self, s):\n",
    "        return np.argmax(self.model.predict(s[None]), axis = 1)\n",
    "\n",
    "    def reinforce(self, s_, n_s_, a_, r_, game_over_):\n",
    "        # Two steps: first memorize the states, second learn from the pool\n",
    "\n",
    "        self.memory.remember([s_, n_s_, a_, r_, game_over_])\n",
    "        \n",
    "        input_states = np.zeros((self.batch_size, 5,5,self.n_state))\n",
    "        target_q = np.zeros((self.batch_size, 4))\n",
    "        \n",
    "        for i in range(self.batch_size):\n",
    "            ######## FILL IN\n",
    "            s_, n_s_, a_, r_, game_over_ = self.memory.random_access()\n",
    "            input_states[i] = s_\n",
    "            \n",
    "            target_q[i] = self.model.predict(s_[None])\n",
    "            if game_over_:\n",
    "                ######## FILL IN\n",
    "                target_q[i,a_] = r_\n",
    "            else:\n",
    "                ######## FILL IN\n",
    "                target_q[i,a_] = r_ + self.discount*np.max(self.model.predict(n_s_[None]),axis=1)\n",
    "        ######## FILL IN\n",
    "        # HINT: Clip the target to avoid exploiding gradients.. -- clipping is a bit tighter\n",
    "        target_q = np.clip(target_q, -3, 3)\n",
    "\n",
    "        l = self.model.train_on_batch(input_states, target_q)\n",
    "\n",
    "\n",
    "        return l\n",
    "\n",
    "    def save(self,name_weights='model.h5',name_model='model.json'):\n",
    "        self.model.save_weights(name_weights, overwrite=True)\n",
    "        with open(name_model, \"w\") as outfile:\n",
    "            json.dump(self.model.to_json(), outfile)\n",
    "            \n",
    "    def load(self,name_weights='model.h5',name_model='model.json'):\n",
    "        with open(name_model, \"r\") as jfile:\n",
    "            model = model_from_json(json.load(jfile))\n",
    "        model.load_weights(name_weights)\n",
    "        model.compile(\"sgd\", \"mse\")\n",
    "        self.model = model\n",
    "\n",
    "            \n",
    "class DQN_FC(DQN):\n",
    "    def __init__(self, *args, lr=0.1,**kwargs):\n",
    "        super(DQN_FC, self).__init__( *args,**kwargs)\n",
    "        \n",
    "        # NN Model\n",
    "        model = Sequential()\n",
    "        model.add(Flatten(input_shape=(5,5,self.n_state))) #Flatten for dense layers\n",
    "        model.add(Dense(15, activation='relu'))\n",
    "        model.add(Dense(self.n_action, activation='softmax'))\n",
    "        \n",
    "        model.compile(sgd(lr=.1, decay=1e-4, momentum=0.0), \"mse\")\n",
    "        self.model = model\n",
    "        "
   ]
  },
  {
   "cell_type": "code",
   "execution_count": 13,
   "metadata": {
    "collapsed": true
   },
   "outputs": [
    {
     "name": "stdout",
     "output_type": "stream",
     "text": [
      "Epoch 000/050 | Loss 0.0041 | Win/lose count 3.5/6.0 (-2.5)\n",
      "Epoch 001/050 | Loss 0.0097 | Win/lose count 4.0/7.0 (-3.0)\n",
      "Epoch 002/050 | Loss 0.0238 | Win/lose count 5.0/11.0 (-6.0)\n",
      "Epoch 003/050 | Loss 0.0092 | Win/lose count 3.0/8.0 (-5.0)\n",
      "Epoch 004/050 | Loss 0.0108 | Win/lose count 6.5/7.0 (-0.5)\n",
      "Epoch 005/050 | Loss 0.0034 | Win/lose count 11.0/4.0 (7.0)\n",
      "Epoch 006/050 | Loss 0.0037 | Win/lose count 6.5/5.0 (1.5)\n",
      "Epoch 007/050 | Loss 0.0117 | Win/lose count 5.0/3.0 (2.0)\n",
      "Epoch 008/050 | Loss 0.0023 | Win/lose count 6.5/11.0 (-4.5)\n",
      "Epoch 009/050 | Loss 0.0100 | Win/lose count 1.0/3.0 (-2.0)\n",
      "Epoch 010/050 | Loss 0.0098 | Win/lose count 4.0/6.0 (-2.0)\n",
      "Epoch 011/050 | Loss 0.0194 | Win/lose count 5.5/2.0 (3.5)\n",
      "Epoch 012/050 | Loss 0.0118 | Win/lose count 5.0/7.0 (-2.0)\n",
      "Epoch 013/050 | Loss 0.0199 | Win/lose count 4.5/3.0 (1.5)\n",
      "Epoch 014/050 | Loss 0.0183 | Win/lose count 5.5/8.0 (-2.5)\n",
      "Epoch 015/050 | Loss 0.0009 | Win/lose count 4.0/2.0 (2.0)\n",
      "Epoch 016/050 | Loss 0.0108 | Win/lose count 3.0/3.0 (0.0)\n",
      "Epoch 017/050 | Loss 0.0027 | Win/lose count 4.5/4.0 (0.5)\n",
      "Epoch 018/050 | Loss 0.0114 | Win/lose count 3.0/2.0 (1.0)\n",
      "Epoch 019/050 | Loss 0.0191 | Win/lose count 7.5/4.0 (3.5)\n",
      "Epoch 020/050 | Loss 0.0086 | Win/lose count 4.0/3.0 (1.0)\n",
      "Epoch 021/050 | Loss 0.0317 | Win/lose count 0.5/4.0 (-3.5)\n",
      "Epoch 022/050 | Loss 0.0019 | Win/lose count 1.5/4.0 (-2.5)\n",
      "Epoch 023/050 | Loss 0.0188 | Win/lose count 3.5/5.0 (-1.5)\n",
      "Epoch 024/050 | Loss 0.0059 | Win/lose count 3.5/3.0 (0.5)\n",
      "Epoch 025/050 | Loss 0.0028 | Win/lose count 2.5/6.0 (-3.5)\n",
      "Epoch 026/050 | Loss 0.0083 | Win/lose count 2.0/3.0 (-1.0)\n",
      "Epoch 027/050 | Loss 0.0159 | Win/lose count 4.5/3.0 (1.5)\n",
      "Epoch 028/050 | Loss 0.0144 | Win/lose count 6.0/5.0 (1.0)\n",
      "Epoch 029/050 | Loss 0.0083 | Win/lose count 5.0/3.0 (2.0)\n",
      "Epoch 030/050 | Loss 0.0011 | Win/lose count 1.5/5.0 (-3.5)\n",
      "Epoch 031/050 | Loss 0.0022 | Win/lose count 3.5/2.0 (1.5)\n",
      "Epoch 032/050 | Loss 0.0028 | Win/lose count 4.5/2.0 (2.5)\n",
      "Epoch 033/050 | Loss 0.0044 | Win/lose count 3.0/5.0 (-2.0)\n",
      "Epoch 034/050 | Loss 0.0041 | Win/lose count 8.5/4.0 (4.5)\n",
      "Epoch 035/050 | Loss 0.0046 | Win/lose count 1.5/3.0 (-1.5)\n",
      "Epoch 036/050 | Loss 0.0121 | Win/lose count 1.0/5.0 (-4.0)\n",
      "Epoch 037/050 | Loss 0.0095 | Win/lose count 2.0/4.0 (-2.0)\n",
      "Epoch 038/050 | Loss 0.0053 | Win/lose count 3.5/3.0 (0.5)\n",
      "Epoch 039/050 | Loss 0.0097 | Win/lose count 3.5/3.0 (0.5)\n",
      "Epoch 040/050 | Loss 0.0007 | Win/lose count 1.5/2.0 (-0.5)\n",
      "Epoch 041/050 | Loss 0.0008 | Win/lose count 10.0/2.0 (8.0)\n",
      "Epoch 042/050 | Loss 0.0014 | Win/lose count 4.0/3.0 (1.0)\n",
      "Epoch 043/050 | Loss 0.0085 | Win/lose count 7.5/5.0 (2.5)\n",
      "Epoch 044/050 | Loss 0.0028 | Win/lose count 6.5/3.0 (3.5)\n",
      "Epoch 045/050 | Loss 0.0035 | Win/lose count 6.0/2.0 (4.0)\n",
      "Epoch 046/050 | Loss 0.0104 | Win/lose count 3.0/4.0 (-1.0)\n",
      "Epoch 047/050 | Loss 0.0131 | Win/lose count 1.5/5.0 (-3.5)\n",
      "Epoch 048/050 | Loss 0.0097 | Win/lose count 8.0/5.0 (3.0)\n",
      "Epoch 049/050 | Loss 0.0039 | Win/lose count 4.0/1.0 (3.0)\n"
     ]
    },
    {
     "data": {
      "text/html": [
       "<video alt=\"test\" controls>\n",
       "                <source src=\"data:video/mp4;base64,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\" type=\"video/mp4\" />\n",
       "             </video>"
      ],
      "text/plain": [
       "<IPython.core.display.HTML object>"
      ]
     },
     "execution_count": 13,
     "metadata": {},
     "output_type": "execute_result"
    }
   ],
   "source": [
    "env = Environment(grid_size=size, max_time=T, temperature=0.3)\n",
    "agent = DQN_FC(size, lr=.1, epsilon = 0.1, memory_size=2000, batch_size = 32)\n",
    "train(agent, env, epochs_train, prefix='fc_train')\n",
    "HTML(display_videos('fc_train10.mp4'))"
   ]
  },
  {
   "cell_type": "markdown",
   "metadata": {},
   "source": [
    "***\n",
    "***\n",
    "__Question 8__ Implement the DQN training algorithm using a CNN (for example, 2 convolutional layers and one final fully connected layer)."
   ]
  },
  {
   "cell_type": "code",
   "execution_count": 14,
   "metadata": {
    "collapsed": true
   },
   "outputs": [],
   "source": [
    "class DQN_CNN(DQN):\n",
    "    def __init__(self, *args,lr=0.1,**kwargs):\n",
    "        super(DQN_CNN, self).__init__(*args,**kwargs)\n",
    "        \n",
    "        ###### FILL IN\n",
    "        model = Sequential()\n",
    "        model.add(Conv2D(16, (3,3), input_shape=(5,5,self.n_state), activation=\"relu\"))\n",
    "        model.add(Conv2D(32, (3,3), activation=\"relu\"))\n",
    "        model.add(Flatten())\n",
    "        model.add(Dense(self.n_action))\n",
    "        \n",
    "        model.compile(sgd(lr=lr, decay=1e-4, momentum=0.0), \"mse\")\n",
    "        self.model = model"
   ]
  },
  {
   "cell_type": "code",
   "execution_count": 15,
   "metadata": {
    "collapsed": true
   },
   "outputs": [
    {
     "name": "stdout",
     "output_type": "stream",
     "text": [
      "Epoch 000/050 | Loss 0.0034 | Win/lose count 2.5/3.0 (-0.5)\n",
      "Epoch 001/050 | Loss 0.0013 | Win/lose count 1.0/4.0 (-3.0)\n",
      "Epoch 002/050 | Loss 0.0113 | Win/lose count 1.5/2.0 (-0.5)\n",
      "Epoch 003/050 | Loss 0.0007 | Win/lose count 2.0/3.0 (-1.0)\n",
      "Epoch 004/050 | Loss 0.0015 | Win/lose count 5.5/3.0 (2.5)\n",
      "Epoch 005/050 | Loss 0.0014 | Win/lose count 4.5/4.0 (0.5)\n",
      "Epoch 006/050 | Loss 0.0024 | Win/lose count 1.5/4.0 (-2.5)\n",
      "Epoch 007/050 | Loss 0.0207 | Win/lose count 1.0/2.0 (-1.0)\n",
      "Epoch 008/050 | Loss 0.0019 | Win/lose count 1.5/2.0 (-0.5)\n",
      "Epoch 009/050 | Loss 0.0031 | Win/lose count 2.0/2.0 (0.0)\n",
      "Epoch 010/050 | Loss 0.0062 | Win/lose count 3.5/2.0 (1.5)\n",
      "Epoch 011/050 | Loss 0.0222 | Win/lose count 2.0/1.0 (1.0)\n",
      "Epoch 012/050 | Loss 0.0019 | Win/lose count 2.5/0 (2.5)\n",
      "Epoch 013/050 | Loss 0.0064 | Win/lose count 2.5/2.0 (0.5)\n",
      "Epoch 014/050 | Loss 0.0078 | Win/lose count 1.0/1.0 (0.0)\n",
      "Epoch 015/050 | Loss 0.0025 | Win/lose count 4.0/3.0 (1.0)\n",
      "Epoch 016/050 | Loss 0.0485 | Win/lose count 4.0/3.0 (1.0)\n",
      "Epoch 017/050 | Loss 0.0052 | Win/lose count 4.0/2.0 (2.0)\n",
      "Epoch 018/050 | Loss 0.0014 | Win/lose count 2.5/2.0 (0.5)\n",
      "Epoch 019/050 | Loss 0.0059 | Win/lose count 1.0/5.0 (-4.0)\n",
      "Epoch 020/050 | Loss 0.0026 | Win/lose count 2.0/0 (2.0)\n",
      "Epoch 021/050 | Loss 0.0024 | Win/lose count 8.0/3.0 (5.0)\n",
      "Epoch 022/050 | Loss 0.0022 | Win/lose count 6.0/3.0 (3.0)\n",
      "Epoch 023/050 | Loss 0.0014 | Win/lose count 5.0/0 (5.0)\n",
      "Epoch 024/050 | Loss 0.0028 | Win/lose count 4.5/4.0 (0.5)\n",
      "Epoch 025/050 | Loss 0.0013 | Win/lose count 2.0/1.0 (1.0)\n",
      "Epoch 026/050 | Loss 0.0012 | Win/lose count 14.5/3.0 (11.5)\n",
      "Epoch 027/050 | Loss 0.0552 | Win/lose count 3.0/2.0 (1.0)\n",
      "Epoch 028/050 | Loss 0.0041 | Win/lose count 6.0/4.0 (2.0)\n",
      "Epoch 029/050 | Loss 0.0027 | Win/lose count 12.5/4.0 (8.5)\n",
      "Epoch 030/050 | Loss 0.0043 | Win/lose count 7.0/2.0 (5.0)\n",
      "Epoch 031/050 | Loss 0.0017 | Win/lose count 5.0/2.0 (3.0)\n",
      "Epoch 032/050 | Loss 0.0058 | Win/lose count 9.5/1.0 (8.5)\n",
      "Epoch 033/050 | Loss 0.0017 | Win/lose count 13.0/4.0 (9.0)\n",
      "Epoch 034/050 | Loss 0.0089 | Win/lose count 10.0/2.0 (8.0)\n",
      "Epoch 035/050 | Loss 0.0017 | Win/lose count 3.0/2.0 (1.0)\n",
      "Epoch 036/050 | Loss 0.0013 | Win/lose count 16.0/4.0 (12.0)\n",
      "Epoch 037/050 | Loss 0.0579 | Win/lose count 13.5/1.0 (12.5)\n",
      "Epoch 038/050 | Loss 0.0049 | Win/lose count 13.5/1.0 (12.5)\n",
      "Epoch 039/050 | Loss 0.0011 | Win/lose count 5.5/2.0 (3.5)\n",
      "Epoch 040/050 | Loss 0.0017 | Win/lose count 5.5/1.0 (4.5)\n",
      "Epoch 041/050 | Loss 0.0039 | Win/lose count 18.5/3.0 (15.5)\n",
      "Epoch 042/050 | Loss 0.0019 | Win/lose count 8.5/1.0 (7.5)\n",
      "Epoch 043/050 | Loss 0.0040 | Win/lose count 8.0/3.0 (5.0)\n",
      "Epoch 044/050 | Loss 0.0017 | Win/lose count 8.5/3.0 (5.5)\n",
      "Epoch 045/050 | Loss 0.0028 | Win/lose count 10.5/3.0 (7.5)\n",
      "Epoch 046/050 | Loss 0.0074 | Win/lose count 10.5/1.0 (9.5)\n",
      "Epoch 047/050 | Loss 0.0073 | Win/lose count 9.5/3.0 (6.5)\n",
      "Epoch 048/050 | Loss 0.0099 | Win/lose count 18.0/3.0 (15.0)\n",
      "Epoch 049/050 | Loss 0.0520 | Win/lose count 19.5/2.0 (17.5)\n"
     ]
    },
    {
     "data": {
      "text/html": [
       "<video alt=\"test\" controls>\n",
       "                <source src=\"data:video/mp4;base64,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\" type=\"video/mp4\" />\n",
       "             </video>"
      ],
      "text/plain": [
       "<IPython.core.display.HTML object>"
      ]
     },
     "execution_count": 15,
     "metadata": {},
     "output_type": "execute_result"
    }
   ],
   "source": [
    "env = Environment(grid_size=size, max_time=T, temperature=0.3)\n",
    "agent = DQN_CNN(size, lr=.1, epsilon = 0.1, memory_size=2000, batch_size = 32)\n",
    "train(agent,env,epochs_train,prefix='cnn_train')\n",
    "HTML(display_videos('cnn_train10.mp4'))"
   ]
  },
  {
   "cell_type": "markdown",
   "metadata": {},
   "source": [
    "***\n",
    "***\n",
    "__Question 9__ Test both algorithms and compare their performances. Which issue(s) do you observe? Observe also different behaviors by changing the temperature."
   ]
  },
  {
   "cell_type": "code",
   "execution_count": 16,
   "metadata": {
    "collapsed": true
   },
   "outputs": [
    {
     "name": "stdout",
     "output_type": "stream",
     "text": [
      "Test of the CNN\n",
      "Win/lose count 7.0/3.0. Average score (4.0)\n",
      "Win/lose count 14.0/3.0. Average score (7.5)\n",
      "Win/lose count 8.0/2.0. Average score (7.0)\n",
      "Win/lose count 3.0/0. Average score (6.0)\n",
      "Win/lose count 4.5/1.0. Average score (5.5)\n",
      "Win/lose count 14.5/5.0. Average score (6.166666666666667)\n",
      "Win/lose count 6.5/3.0. Average score (5.785714285714286)\n",
      "Win/lose count 15.5/3.0. Average score (6.625)\n",
      "Win/lose count 16.5/4.0. Average score (7.277777777777778)\n",
      "Win/lose count 15.0/4.0. Average score (7.65)\n",
      "Final score: 7.65\n",
      "Test of the FC\n",
      "Win/lose count 5.5/3.0. Average score (2.5)\n",
      "Win/lose count 4.5/6.0. Average score (0.5)\n",
      "Win/lose count 4.0/6.0. Average score (-0.3333333333333333)\n",
      "Win/lose count 7.0/2.0. Average score (1.0)\n",
      "Win/lose count 5.5/4.0. Average score (1.1)\n",
      "Win/lose count 6.5/5.0. Average score (1.1666666666666667)\n",
      "Win/lose count 4.5/4.0. Average score (1.0714285714285714)\n",
      "Win/lose count 3.0/6.0. Average score (0.5625)\n",
      "Win/lose count 4.5/5.0. Average score (0.4444444444444444)\n",
      "Win/lose count 6.5/8.0. Average score (0.25)\n",
      "Final score: 0.25\n"
     ]
    }
   ],
   "source": [
    "env = Environment(grid_size=size, max_time=T,temperature=0.3)\n",
    "agent_cnn = DQN_CNN(size, lr=.1, epsilon = 0.1, memory_size=2000, batch_size = 32)\n",
    "agent_cnn.load(name_weights='cnn_trainmodel.h5',name_model='cnn_trainmodel.json')\n",
    "\n",
    "agent_fc = DQN_FC(size, lr=.1, epsilon = 0.1, memory_size=2000, batch_size = 32)\n",
    "agent_fc.load(name_weights='fc_trainmodel.h5',name_model='fc_trainmodel.json')\n",
    "print('Test of the CNN')\n",
    "test(agent_cnn,env,epochs_test,prefix='cnn_test')\n",
    "print('Test of the FC')\n",
    "test(agent_fc,env,epochs_test,prefix='fc_test')"
   ]
  },
  {
   "cell_type": "code",
   "execution_count": 17,
   "metadata": {
    "collapsed": true
   },
   "outputs": [
    {
     "data": {
      "text/html": [
       "<video alt=\"test\" controls>\n",
       "                <source src=\"data:video/mp4;base64,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\" type=\"video/mp4\" />\n",
       "             </video>"
      ],
      "text/plain": [
       "<IPython.core.display.HTML object>"
      ]
     },
     "execution_count": 17,
     "metadata": {},
     "output_type": "execute_result"
    }
   ],
   "source": [
    "HTML(display_videos('cnn_test9.mp4'))"
   ]
  },
  {
   "cell_type": "code",
   "execution_count": 18,
   "metadata": {
    "collapsed": true
   },
   "outputs": [
    {
     "data": {
      "text/html": [
       "<video alt=\"test\" controls>\n",
       "                <source src=\"data:video/mp4;base64,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\" type=\"video/mp4\" />\n",
       "             </video>"
      ],
      "text/plain": [
       "<IPython.core.display.HTML object>"
      ]
     },
     "execution_count": 18,
     "metadata": {},
     "output_type": "execute_result"
    }
   ],
   "source": [
    "HTML(display_videos('fc_test9.mp4'))"
   ]
  },
  {
   "cell_type": "markdown",
   "metadata": {},
   "source": [
    "__Observations :__\n",
    "\n",
    "- The agent doesn't explore the grid really well and get's stuck a lot, especially when there are no rewards close to it. \n",
    "\n",
    "- Increasing the temperature, creates more rewards in the grid. This way the agents explores more as there are more rewards next to it and therefore gets better results. "
   ]
  },
  {
   "cell_type": "markdown",
   "metadata": {},
   "source": [
    "***\n",
    "\n",
    "The algorithm tends to not explore the map which can be an issue. We propose two ideas in order to encourage exploration:\n",
    "1. Incorporating a decreasing $\\epsilon$-greedy exploration. You can use the method ```set_epsilon```\n",
    "2. Append via the environment a new state that describes if a cell has been visited or not\n",
    "\n",
    "***\n",
    "__Question 10__ Design a new ```train_explore``` function and environment class ```EnvironmentExploring``` to tackle the issue of exploration.\n",
    "\n"
   ]
  },
  {
   "cell_type": "code",
   "execution_count": 19,
   "metadata": {
    "collapsed": true
   },
   "outputs": [],
   "source": [
    "def train_explore(agent,env,epoch,prefix=''):\n",
    "    score = 0\n",
    "    loss = 0\n",
    "    \n",
    "    # Starting epsilon\n",
    "    epsilon_begin = agent.epsilon\n",
    "    \n",
    "    # Minimum value that epsilon could get\n",
    "    epsilon_end = 0.1\n",
    "\n",
    "    for e in range(epoch):\n",
    "        # At each epoch, we restart to a fresh game and get the initial state\n",
    "        state = env.reset()\n",
    "        # This assumes that the games will terminate\n",
    "        game_over = False\n",
    "\n",
    "        win = 0\n",
    "        lose = 0\n",
    "        \n",
    "        # Exponential decay for epsilon-greedy exploration\n",
    "        agent.set_epsilon((epsilon_begin-epsilon_end)*np.exp(-e/6) + epsilon_end)\n",
    "\n",
    "        while not game_over:\n",
    "            # The agent performs an action\n",
    "            action = agent.act(state)\n",
    "\n",
    "            # Apply an action to the environment, get the next state, the reward\n",
    "            # and if the games end\n",
    "            prev_state = state\n",
    "            state, reward, game_over = env.act(action, train=True)\n",
    "\n",
    "            # Update the counters\n",
    "            if reward > 0:\n",
    "                win = win + reward\n",
    "            if reward < 0:\n",
    "                lose = lose -reward\n",
    "\n",
    "            # Apply the reinforcement strategy\n",
    "            loss = agent.reinforce(prev_state, state,  action, reward, game_over)\n",
    "\n",
    "        # Save as a mp4\n",
    "        if (e+1) % 10 == 0:\n",
    "            env.draw(prefix+str(e+1))\n",
    "\n",
    "        # Update stats\n",
    "        score += win-lose\n",
    "\n",
    "        print(\"Epoch {:03d}/{:03d} | Loss {:.4f} | Win/lose count {:.2f}/{:.2f} ({:.2f}) | Epsilon : {:.2f}\"\n",
    "              .format(e, epoch, loss, win, lose, win-lose, agent.epsilon))\n",
    "        agent.save(name_weights=prefix+'model.h5',name_model=prefix+'model.json')\n",
    "\n",
    "        \n",
    "class EnvironmentExploring(object):\n",
    "    def __init__(self, grid_size=10, max_time=500, temperature=0.1):\n",
    "        grid_size = grid_size+4\n",
    "        self.grid_size = grid_size\n",
    "        self.max_time = max_time\n",
    "        self.temperature = temperature\n",
    "        \n",
    "        #board on which one plays\n",
    "        self.board = np.zeros((grid_size,grid_size))\n",
    "        self.position = np.zeros((grid_size,grid_size))\n",
    "        self.malus_position = np.zeros((grid_size,grid_size))\n",
    "        \n",
    "        # coordinate of the cat\n",
    "        self.x = 0\n",
    "        self.y = 1\n",
    "        \n",
    "        # self time\n",
    "        self.t = 0\n",
    "        \n",
    "        self.scale=16\n",
    "\n",
    "        self.to_draw = np.zeros((max_time+2, grid_size*self.scale, grid_size*self.scale, 3))\n",
    "\n",
    "\n",
    "    def draw(self,e):\n",
    "        skvideo.io.vwrite(str(e) + '.mp4', self.to_draw)\n",
    "\n",
    "    def get_frame(self,t):\n",
    "        b = np.zeros((self.grid_size,self.grid_size,3))+128\n",
    "        b[self.board>0,0] = 256\n",
    "        b[self.board < 0, 2] = 256\n",
    "        b[self.x,self.y,:]=256\n",
    "        b[-2:,:,:]=0\n",
    "        b[:,-2:,:]=0\n",
    "        b[:2,:,:]=0\n",
    "        b[:,:2,:]=0\n",
    "        \n",
    "        b =  cv2.resize(b, None, fx=self.scale, fy=self.scale, interpolation=cv2.INTER_NEAREST)\n",
    "\n",
    "        self.to_draw[t,:,:,:]=b\n",
    "\n",
    "\n",
    "    def act(self, action, train=False):\n",
    "        \"\"\"This function returns the new state, reward and decides if the\n",
    "        game ends.\"\"\"\n",
    "\n",
    "        self.get_frame(int(self.t))\n",
    "\n",
    "        self.position = np.zeros((self.grid_size, self.grid_size))\n",
    "\n",
    "        self.position[0:2,:]= -1\n",
    "        self.position[:,0:2] = -1\n",
    "        self.position[-2:, :] = -1\n",
    "        self.position[-2:, :] = -1\n",
    "\n",
    "        self.position[self.x, self.y] = 1\n",
    "        \n",
    "        if action == 0:\n",
    "            if self.x == self.grid_size-3:\n",
    "                self.x = self.x-1\n",
    "            else:\n",
    "                self.x = self.x + 1\n",
    "        elif action == 1:\n",
    "            if self.x == 2:\n",
    "                self.x = self.x+1\n",
    "            else:\n",
    "                self.x = self.x-1\n",
    "        elif action == 2:\n",
    "            if self.y == self.grid_size - 3:\n",
    "                self.y = self.y - 1\n",
    "            else:\n",
    "                self.y = self.y + 1\n",
    "        elif action == 3:\n",
    "            if self.y == 2:\n",
    "                self.y = self.y + 1\n",
    "            else:\n",
    "                self.y = self.y - 1\n",
    "        else:\n",
    "            RuntimeError('Error: action not recognized')\n",
    "            \n",
    "\n",
    "        self.malus_position[self.x, self.y] = 0.1 \n",
    "        self.t = self.t + 1\n",
    "        \n",
    "        reward = self.board[self.x, self.y] - int(train)*self.malus_position[self.x, self.y]\n",
    "        self.board[self.x, self.y] = 0\n",
    "\n",
    "        game_over = self.t > self.max_time\n",
    "        \n",
    "        state = np.concatenate((self.malus_position.reshape(self.grid_size, self.grid_size,1),\n",
    "                                self.board.reshape(self.grid_size, self.grid_size,1),\n",
    "                                self.position.reshape(self.grid_size, self.grid_size,1)),axis=2)  \n",
    "        \n",
    "        state = state[self.x-2:self.x+3,self.y-2:self.y+3,:]\n",
    "\n",
    "        return state, reward, game_over\n",
    "\n",
    "    def reset(self):\n",
    "        \"\"\"This function resets the game and returns the initial state\"\"\"\n",
    "\n",
    "        self.x = np.random.randint(3, self.grid_size-3, size=1)[0]\n",
    "        self.y = np.random.randint(3, self.grid_size-3, size=1)[0]\n",
    "\n",
    "        bonus = 0.5*np.random.binomial(1,self.temperature,size=self.grid_size**2)\n",
    "        bonus = bonus.reshape(self.grid_size,self.grid_size)\n",
    "\n",
    "        malus = -1.0*np.random.binomial(1,self.temperature,size=self.grid_size**2)\n",
    "        malus = malus.reshape(self.grid_size, self.grid_size)\n",
    "\n",
    "        self.to_draw = np.zeros((self.max_time+2, self.grid_size*self.scale, self.grid_size*self.scale, 3))\n",
    "\n",
    "        malus[bonus>0]=0\n",
    "\n",
    "        self.board = bonus + malus\n",
    "\n",
    "        self.position = np.zeros((self.grid_size, self.grid_size))\n",
    "        self.position[0:2,:]= -1\n",
    "        self.position[:,0:2] = -1\n",
    "        self.position[-2:, :] = -1\n",
    "        self.position[-2:, :] = -1\n",
    "        \n",
    "        self.malus_position = np.zeros((self.grid_size,self.grid_size))\n",
    "        self.malus_position[self.x, self.y] = 0.1\n",
    "        \n",
    "        self.board[self.x,self.y] = 0\n",
    "        self.t = 0\n",
    "\n",
    "        state = np.concatenate((self.malus_position.reshape(self.grid_size, self.grid_size,1),\n",
    "                                self.board.reshape(self.grid_size, self.grid_size,1),\n",
    "                                self.position.reshape(self.grid_size, self.grid_size,1)),axis=2) \n",
    "\n",
    "        state = state[self.x - 2:self.x + 3, self.y - 2:self.y + 3, :]\n",
    "        return state\n",
    "    \n"
   ]
  },
  {
   "cell_type": "code",
   "execution_count": 20,
   "metadata": {
    "collapsed": true
   },
   "outputs": [
    {
     "name": "stdout",
     "output_type": "stream",
     "text": [
      "Epoch 000/100 | Loss 0.0210 | Win/lose count 7.20/34.30 (-27.10) | Epsilon : 0.90\n",
      "Epoch 001/100 | Loss 0.0098 | Win/lose count 10.40/28.50 (-18.10) | Epsilon : 0.78\n",
      "Epoch 002/100 | Loss 0.0057 | Win/lose count 7.20/28.30 (-21.10) | Epsilon : 0.67\n",
      "Epoch 003/100 | Loss 0.0143 | Win/lose count 9.60/29.70 (-20.10) | Epsilon : 0.59\n",
      "Epoch 004/100 | Loss 0.0105 | Win/lose count 9.60/29.70 (-20.10) | Epsilon : 0.51\n",
      "Epoch 005/100 | Loss 0.0247 | Win/lose count 10.80/24.40 (-13.60) | Epsilon : 0.45\n",
      "Epoch 006/100 | Loss 0.0067 | Win/lose count 13.20/31.80 (-18.60) | Epsilon : 0.39\n",
      "Epoch 007/100 | Loss 0.0077 | Win/lose count 9.20/24.80 (-15.60) | Epsilon : 0.35\n",
      "Epoch 008/100 | Loss 0.0073 | Win/lose count 14.00/24.60 (-10.60) | Epsilon : 0.31\n",
      "Epoch 009/100 | Loss 0.1027 | Win/lose count 5.60/22.70 (-17.10) | Epsilon : 0.28\n",
      "Epoch 010/100 | Loss 0.0462 | Win/lose count 4.00/25.10 (-21.10) | Epsilon : 0.25\n",
      "Epoch 011/100 | Loss 0.0117 | Win/lose count 11.60/21.20 (-9.60) | Epsilon : 0.23\n",
      "Epoch 012/100 | Loss 0.0423 | Win/lose count 10.80/17.40 (-6.60) | Epsilon : 0.21\n",
      "Epoch 013/100 | Loss 0.0084 | Win/lose count 9.20/21.80 (-12.60) | Epsilon : 0.19\n",
      "Epoch 014/100 | Loss 0.0268 | Win/lose count 12.00/18.10 (-6.10) | Epsilon : 0.18\n",
      "Epoch 015/100 | Loss 0.0096 | Win/lose count 11.20/21.30 (-10.10) | Epsilon : 0.17\n",
      "Epoch 016/100 | Loss 0.0256 | Win/lose count 18.40/19.50 (-1.10) | Epsilon : 0.16\n",
      "Epoch 017/100 | Loss 0.0113 | Win/lose count 10.40/19.50 (-9.10) | Epsilon : 0.15\n",
      "Epoch 018/100 | Loss 0.0173 | Win/lose count 9.20/18.80 (-9.60) | Epsilon : 0.14\n",
      "Epoch 019/100 | Loss 0.0298 | Win/lose count 16.40/19.00 (-2.60) | Epsilon : 0.13\n",
      "Epoch 020/100 | Loss 0.0111 | Win/lose count 12.00/22.10 (-10.10) | Epsilon : 0.13\n",
      "Epoch 021/100 | Loss 0.0208 | Win/lose count 17.60/25.70 (-8.10) | Epsilon : 0.12\n",
      "Epoch 022/100 | Loss 0.0209 | Win/lose count 16.00/20.10 (-4.10) | Epsilon : 0.12\n",
      "Epoch 023/100 | Loss 0.0151 | Win/lose count 12.40/19.00 (-6.60) | Epsilon : 0.12\n",
      "Epoch 024/100 | Loss 0.0082 | Win/lose count 13.60/19.70 (-6.10) | Epsilon : 0.11\n",
      "Epoch 025/100 | Loss 0.0138 | Win/lose count 11.20/19.30 (-8.10) | Epsilon : 0.11\n",
      "Epoch 026/100 | Loss 0.0135 | Win/lose count 7.20/18.30 (-11.10) | Epsilon : 0.11\n",
      "Epoch 027/100 | Loss 0.0090 | Win/lose count 13.20/16.80 (-3.60) | Epsilon : 0.11\n",
      "Epoch 028/100 | Loss 0.0173 | Win/lose count 16.00/17.10 (-1.10) | Epsilon : 0.11\n",
      "Epoch 029/100 | Loss 0.0201 | Win/lose count 11.20/23.30 (-12.10) | Epsilon : 0.11\n",
      "Epoch 030/100 | Loss 0.0124 | Win/lose count 15.20/18.30 (-3.10) | Epsilon : 0.11\n",
      "Epoch 031/100 | Loss 0.0127 | Win/lose count 12.00/20.10 (-8.10) | Epsilon : 0.10\n",
      "Epoch 032/100 | Loss 0.0397 | Win/lose count 12.00/21.10 (-9.10) | Epsilon : 0.10\n",
      "Epoch 033/100 | Loss 0.0332 | Win/lose count 12.80/21.90 (-9.10) | Epsilon : 0.10\n",
      "Epoch 034/100 | Loss 0.0084 | Win/lose count 14.00/17.60 (-3.60) | Epsilon : 0.10\n",
      "Epoch 035/100 | Loss 0.0087 | Win/lose count 12.80/18.90 (-6.10) | Epsilon : 0.10\n",
      "Epoch 036/100 | Loss 0.0203 | Win/lose count 14.00/21.60 (-7.60) | Epsilon : 0.10\n",
      "Epoch 037/100 | Loss 0.0173 | Win/lose count 19.60/20.20 (-0.60) | Epsilon : 0.10\n",
      "Epoch 038/100 | Loss 0.0253 | Win/lose count 12.00/25.10 (-13.10) | Epsilon : 0.10\n",
      "Epoch 039/100 | Loss 0.0161 | Win/lose count 16.80/18.90 (-2.10) | Epsilon : 0.10\n",
      "Epoch 040/100 | Loss 0.0132 | Win/lose count 16.80/18.90 (-2.10) | Epsilon : 0.10\n",
      "Epoch 041/100 | Loss 0.0080 | Win/lose count 15.60/25.20 (-9.60) | Epsilon : 0.10\n",
      "Epoch 042/100 | Loss 0.0132 | Win/lose count 17.20/15.80 (1.40) | Epsilon : 0.10\n",
      "Epoch 043/100 | Loss 0.0182 | Win/lose count 14.00/21.60 (-7.60) | Epsilon : 0.10\n",
      "Epoch 044/100 | Loss 0.0295 | Win/lose count 10.40/19.50 (-9.10) | Epsilon : 0.10\n",
      "Epoch 045/100 | Loss 0.0141 | Win/lose count 15.60/21.20 (-5.60) | Epsilon : 0.10\n",
      "Epoch 046/100 | Loss 0.0101 | Win/lose count 12.80/19.90 (-7.10) | Epsilon : 0.10\n",
      "Epoch 047/100 | Loss 0.0129 | Win/lose count 13.20/20.80 (-7.60) | Epsilon : 0.10\n",
      "Epoch 048/100 | Loss 0.0126 | Win/lose count 16.00/20.10 (-4.10) | Epsilon : 0.10\n",
      "Epoch 049/100 | Loss 0.0622 | Win/lose count 10.80/18.40 (-7.60) | Epsilon : 0.10\n",
      "Epoch 050/100 | Loss 0.0240 | Win/lose count 10.00/20.60 (-10.60) | Epsilon : 0.10\n",
      "Epoch 051/100 | Loss 0.0099 | Win/lose count 16.00/19.10 (-3.10) | Epsilon : 0.10\n",
      "Epoch 052/100 | Loss 0.0448 | Win/lose count 9.60/20.70 (-11.10) | Epsilon : 0.10\n",
      "Epoch 053/100 | Loss 0.0141 | Win/lose count 14.00/23.60 (-9.60) | Epsilon : 0.10\n",
      "Epoch 054/100 | Loss 0.0112 | Win/lose count 14.40/21.50 (-7.10) | Epsilon : 0.10\n",
      "Epoch 055/100 | Loss 0.0144 | Win/lose count 16.00/23.10 (-7.10) | Epsilon : 0.10\n",
      "Epoch 056/100 | Loss 0.0137 | Win/lose count 16.00/24.10 (-8.10) | Epsilon : 0.10\n",
      "Epoch 057/100 | Loss 0.0271 | Win/lose count 20.40/21.00 (-0.60) | Epsilon : 0.10\n",
      "Epoch 058/100 | Loss 0.0409 | Win/lose count 18.80/16.40 (2.40) | Epsilon : 0.10\n",
      "Epoch 059/100 | Loss 0.0098 | Win/lose count 13.20/22.80 (-9.60) | Epsilon : 0.10\n",
      "Epoch 060/100 | Loss 0.0225 | Win/lose count 16.00/19.10 (-3.10) | Epsilon : 0.10\n",
      "Epoch 061/100 | Loss 0.0162 | Win/lose count 18.40/19.50 (-1.10) | Epsilon : 0.10\n",
      "Epoch 062/100 | Loss 0.0133 | Win/lose count 11.60/19.20 (-7.60) | Epsilon : 0.10\n",
      "Epoch 063/100 | Loss 0.0481 | Win/lose count 15.60/21.20 (-5.60) | Epsilon : 0.10\n",
      "Epoch 064/100 | Loss 0.0193 | Win/lose count 16.40/23.00 (-6.60) | Epsilon : 0.10\n",
      "Epoch 065/100 | Loss 0.0269 | Win/lose count 13.20/22.80 (-9.60) | Epsilon : 0.10\n",
      "Epoch 066/100 | Loss 0.0150 | Win/lose count 17.20/21.80 (-4.60) | Epsilon : 0.10\n",
      "Epoch 067/100 | Loss 0.0144 | Win/lose count 6.80/18.40 (-11.60) | Epsilon : 0.10\n",
      "Epoch 068/100 | Loss 0.0267 | Win/lose count 21.20/17.80 (3.40) | Epsilon : 0.10\n",
      "Epoch 069/100 | Loss 0.0122 | Win/lose count 16.80/19.90 (-3.10) | Epsilon : 0.10\n",
      "Epoch 070/100 | Loss 0.0204 | Win/lose count 10.80/22.40 (-11.60) | Epsilon : 0.10\n",
      "Epoch 071/100 | Loss 0.0118 | Win/lose count 14.80/26.40 (-11.60) | Epsilon : 0.10\n",
      "Epoch 072/100 | Loss 0.0170 | Win/lose count 15.20/17.30 (-2.10) | Epsilon : 0.10\n",
      "Epoch 073/100 | Loss 0.0096 | Win/lose count 19.20/20.30 (-1.10) | Epsilon : 0.10\n",
      "Epoch 074/100 | Loss 0.0338 | Win/lose count 14.80/21.40 (-6.60) | Epsilon : 0.10\n",
      "Epoch 075/100 | Loss 0.0457 | Win/lose count 14.80/18.40 (-3.60) | Epsilon : 0.10\n",
      "Epoch 076/100 | Loss 0.0361 | Win/lose count 17.20/18.80 (-1.60) | Epsilon : 0.10\n",
      "Epoch 077/100 | Loss 0.0185 | Win/lose count 11.60/21.20 (-9.60) | Epsilon : 0.10\n",
      "Epoch 078/100 | Loss 0.0137 | Win/lose count 6.80/21.40 (-14.60) | Epsilon : 0.10\n",
      "Epoch 079/100 | Loss 0.0248 | Win/lose count 15.60/21.20 (-5.60) | Epsilon : 0.10\n",
      "Epoch 080/100 | Loss 0.0165 | Win/lose count 19.20/19.30 (-0.10) | Epsilon : 0.10\n",
      "Epoch 081/100 | Loss 0.0078 | Win/lose count 12.00/19.10 (-7.10) | Epsilon : 0.10\n",
      "Epoch 082/100 | Loss 0.0196 | Win/lose count 19.20/20.30 (-1.10) | Epsilon : 0.10\n",
      "Epoch 083/100 | Loss 0.0079 | Win/lose count 18.00/18.60 (-0.60) | Epsilon : 0.10\n",
      "Epoch 084/100 | Loss 0.0126 | Win/lose count 19.20/17.30 (1.90) | Epsilon : 0.10\n",
      "Epoch 085/100 | Loss 0.0415 | Win/lose count 13.20/20.80 (-7.60) | Epsilon : 0.10\n",
      "Epoch 086/100 | Loss 0.0172 | Win/lose count 18.40/19.50 (-1.10) | Epsilon : 0.10\n",
      "Epoch 087/100 | Loss 0.0185 | Win/lose count 7.20/20.30 (-13.10) | Epsilon : 0.10\n",
      "Epoch 088/100 | Loss 0.0057 | Win/lose count 19.60/19.20 (0.40) | Epsilon : 0.10\n",
      "Epoch 089/100 | Loss 0.0304 | Win/lose count 10.00/20.60 (-10.60) | Epsilon : 0.10\n",
      "Epoch 090/100 | Loss 0.0109 | Win/lose count 18.40/18.50 (-0.10) | Epsilon : 0.10\n",
      "Epoch 091/100 | Loss 0.0120 | Win/lose count 14.80/19.40 (-4.60) | Epsilon : 0.10\n",
      "Epoch 092/100 | Loss 0.0214 | Win/lose count 12.80/19.90 (-7.10) | Epsilon : 0.10\n",
      "Epoch 093/100 | Loss 0.0090 | Win/lose count 16.80/18.90 (-2.10) | Epsilon : 0.10\n",
      "Epoch 094/100 | Loss 0.0231 | Win/lose count 6.00/19.60 (-13.60) | Epsilon : 0.10\n",
      "Epoch 095/100 | Loss 0.0171 | Win/lose count 16.40/19.00 (-2.60) | Epsilon : 0.10\n",
      "Epoch 096/100 | Loss 0.0226 | Win/lose count 13.60/23.70 (-10.10) | Epsilon : 0.10\n",
      "Epoch 097/100 | Loss 0.0335 | Win/lose count 13.20/19.80 (-6.60) | Epsilon : 0.10\n",
      "Epoch 098/100 | Loss 0.0153 | Win/lose count 18.00/17.60 (0.40) | Epsilon : 0.10\n",
      "Epoch 099/100 | Loss 0.0112 | Win/lose count 16.40/17.00 (-0.60) | Epsilon : 0.10\n"
     ]
    },
    {
     "data": {
      "text/html": [
       "<video alt=\"test\" controls>\n",
       "                <source src=\"data:video/mp4;base64,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\" type=\"video/mp4\" />\n",
       "             </video>"
      ],
      "text/plain": [
       "<IPython.core.display.HTML object>"
      ]
     },
     "execution_count": 20,
     "metadata": {},
     "output_type": "execute_result"
    }
   ],
   "source": [
    "# Training\n",
    "epochs_train=100 # set small when debugging\n",
    "epochs_test=10 # set small when debugging\n",
    "env = EnvironmentExploring(grid_size=size, max_time=T, temperature=0.3)\n",
    "agent = DQN_CNN(size, lr=.1, epsilon = 0.9, memory_size=2000, batch_size = 32,n_state=3)\n",
    "train_explore(agent, env, epochs_train, prefix='cnn_train_explore')\n",
    "HTML(display_videos('cnn_train_explore10.mp4'))"
   ]
  },
  {
   "cell_type": "code",
   "execution_count": 21,
   "metadata": {
    "collapsed": true
   },
   "outputs": [
    {
     "name": "stdout",
     "output_type": "stream",
     "text": [
      "Win/lose count 12.5/4.0. Average score (8.5)\n",
      "Win/lose count 11.0/5.0. Average score (7.25)\n",
      "Win/lose count 18.0/0. Average score (10.833333333333334)\n",
      "Win/lose count 17.0/4.0. Average score (11.375)\n",
      "Win/lose count 20.5/6.0. Average score (12.0)\n",
      "Win/lose count 12.5/3.0. Average score (11.583333333333334)\n",
      "Win/lose count 20.0/4.0. Average score (12.214285714285714)\n",
      "Win/lose count 19.5/3.0. Average score (12.75)\n",
      "Win/lose count 16.0/6.0. Average score (12.444444444444445)\n",
      "Win/lose count 19.0/3.0. Average score (12.8)\n",
      "Final score: 12.8\n"
     ]
    },
    {
     "data": {
      "text/html": [
       "<video alt=\"test\" controls>\n",
       "                <source src=\"data:video/mp4;base64,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\" type=\"video/mp4\" />\n",
       "             </video>"
      ],
      "text/plain": [
       "<IPython.core.display.HTML object>"
      ]
     },
     "execution_count": 21,
     "metadata": {},
     "output_type": "execute_result"
    }
   ],
   "source": [
    "# Evaluation\n",
    "test(agent,env,epochs_test,prefix='cnn_test_explore')\n",
    "HTML(display_videos('cnn_test_explore9.mp4'))"
   ]
  },
  {
   "cell_type": "markdown",
   "metadata": {},
   "source": [
    "***\n",
    "***\n",
    "__BONUS question__ Use the expert DQN from the previous question to generate some winning games. Train a model that mimicks its behavior. Compare the performances."
   ]
  },
  {
   "cell_type": "markdown",
   "metadata": {},
   "source": []
  },
  {
   "cell_type": "markdown",
   "metadata": {},
   "source": [
    "***"
   ]
  }
 ],
 "metadata": {
  "kernelspec": {
   "display_name": "TensorFlow-GPU",
   "language": "python",
   "name": "tf-gpu"
  },
  "language_info": {
   "codemirror_mode": {
    "name": "ipython",
    "version": 3
   },
   "file_extension": ".py",
   "mimetype": "text/x-python",
   "name": "python",
   "nbconvert_exporter": "python",
   "pygments_lexer": "ipython3",
   "version": "3.6.8"
  }
 },
 "nbformat": 4,
 "nbformat_minor": 2
}
